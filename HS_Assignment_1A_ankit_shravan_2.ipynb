{
 "cells": [
  {
   "cell_type": "markdown",
   "id": "f2742e3e",
   "metadata": {},
   "source": [
    "# Physical Attacks on Secure Systems\n",
    "# Assignment 1:  Differential Power Analysis\n",
    "\n",
    "**Goals:**\n",
    "After completing these exercises successfully you should be able to perform a DPA attack and extract the key from an unprotected crypto implementation. You will have the ability to choose a suitable leakage model and a side-channel distinguisher. "
   ]
  },
  {
   "cell_type": "markdown",
   "id": "3f902c88",
   "metadata": {},
   "source": [
    "# Part A:  Tiny - AES implementation:\n",
    "\n",
    "The target of our attack is a software implementation of [AES](https://nvlpubs.nist.gov/nistpubs/FIPS/NIST.FIPS.197.pdf) that can be found on the [ChipWhisperer Github page](https://github.com/newaetech/chipwhisperer/blob/develop/hardware/victims/firmware/crypto/tiny-AES128-C/aes.c).\n",
    "\n",
    "\n",
    "\n",
    "![Power lines](img/AESAttack.png)\n",
    "\n"
   ]
  },
  {
   "cell_type": "markdown",
   "id": "c7f51c18",
   "metadata": {},
   "source": [
    "## Analysis (Q1)\n",
    "### DPA attack with 1-bit leakage model and DoM as distinguisher:\n",
    "As discussed above, our first goal here is to attack the AES implementation using Difference of Means (DoM) as a distinguisher and value of one bit (zero, or one) as our leakage model. In order to fullfill this task you should identify the largest difference of means of all possible subkey values. First, you will get some parameter values and functions that will be used for your analysis. "
   ]
  },
  {
   "cell_type": "code",
   "execution_count": 11,
   "id": "3bd3cfcf",
   "metadata": {},
   "outputs": [
    {
     "name": "stderr",
     "output_type": "stream",
     "text": [
      "/var/folders/zn/6qg4vszx34l4v669l70gq_sr0000gn/T/ipykernel_14753/363561012.py:6: DeprecationWarning: Please use `pearsonr` from the `scipy.stats` namespace, the `scipy.stats.stats` namespace is deprecated.\n",
      "  from scipy.stats.stats import pearsonr\n"
     ]
    }
   ],
   "source": [
    "# Import some useful libraries\n",
    "from tqdm import tnrange\n",
    "import numpy as np\n",
    "import scipy.io\n",
    "import matplotlib.pyplot as plt\n",
    "from scipy.stats import pearsonr \n",
    "from tqdm import tqdm  \n",
    "from sys import platform"
   ]
  },
  {
   "cell_type": "code",
   "execution_count": 20,
   "id": "a9593764",
   "metadata": {},
   "outputs": [],
   "source": [
    "# Load the provided data!\n",
    "# ***Fill in here***\n",
    "aes_traces_file_url = \"\" if platform == \"win32\" else \"AES_Traces.npz\"\n",
    "aes_plaintext_file_url = \"\" if platform == \"win32\" else \"AES_Plaintexts.npz\"\n",
    "\n",
    "with np.load(aes_traces_file_url) as data:\n",
    "    traces_data = data['arr_0']\n",
    "with np.load(aes_plaintext_file_url) as data:\n",
    "    Plain_data = data['arr_0']"
   ]
  },
  {
   "cell_type": "code",
   "execution_count": 21,
   "id": "9b9be7d8",
   "metadata": {},
   "outputs": [
    {
     "name": "stdout",
     "output_type": "stream",
     "text": [
      "2500\n",
      "16\n"
     ]
    }
   ],
   "source": [
    "# How many traces are there in the AES trace set?\n",
    "# ***Fill in here***\n",
    "print(len(traces_data))\n",
    "print((Plain_data[0].size))\n"
   ]
  },
  {
   "cell_type": "code",
   "execution_count": 22,
   "id": "c293d63a",
   "metadata": {},
   "outputs": [
    {
     "name": "stdout",
     "output_type": "stream",
     "text": [
      "4000\n"
     ]
    }
   ],
   "source": [
    "# How many samples per trace are there in the AES trace set?\n",
    "# ***Fill in here***\n",
    "print(traces_data[0].size)\n",
    "\n"
   ]
  },
  {
   "cell_type": "code",
   "execution_count": 15,
   "id": "554b2f73",
   "metadata": {},
   "outputs": [],
   "source": [
    "# The S-box of the AES is defined as follows\n",
    "sbox = (\n",
    "    0x63, 0x7c, 0x77, 0x7b, 0xf2, 0x6b, 0x6f, 0xc5, 0x30, 0x01, 0x67, 0x2b, 0xfe, 0xd7, 0xab, 0x76,\n",
    "    0xca, 0x82, 0xc9, 0x7d, 0xfa, 0x59, 0x47, 0xf0, 0xad, 0xd4, 0xa2, 0xaf, 0x9c, 0xa4, 0x72, 0xc0,\n",
    "    0xb7, 0xfd, 0x93, 0x26, 0x36, 0x3f, 0xf7, 0xcc, 0x34, 0xa5, 0xe5, 0xf1, 0x71, 0xd8, 0x31, 0x15,\n",
    "    0x04, 0xc7, 0x23, 0xc3, 0x18, 0x96, 0x05, 0x9a, 0x07, 0x12, 0x80, 0xe2, 0xeb, 0x27, 0xb2, 0x75,\n",
    "    0x09, 0x83, 0x2c, 0x1a, 0x1b, 0x6e, 0x5a, 0xa0, 0x52, 0x3b, 0xd6, 0xb3, 0x29, 0xe3, 0x2f, 0x84,\n",
    "    0x53, 0xd1, 0x00, 0xed, 0x20, 0xfc, 0xb1, 0x5b, 0x6a, 0xcb, 0xbe, 0x39, 0x4a, 0x4c, 0x58, 0xcf,\n",
    "    0xd0, 0xef, 0xaa, 0xfb, 0x43, 0x4d, 0x33, 0x85, 0x45, 0xf9, 0x02, 0x7f, 0x50, 0x3c, 0x9f, 0xa8,\n",
    "    0x51, 0xa3, 0x40, 0x8f, 0x92, 0x9d, 0x38, 0xf5, 0xbc, 0xb6, 0xda, 0x21, 0x10, 0xff, 0xf3, 0xd2,\n",
    "    0xcd, 0x0c, 0x13, 0xec, 0x5f, 0x97, 0x44, 0x17, 0xc4, 0xa7, 0x7e, 0x3d, 0x64, 0x5d, 0x19, 0x73,\n",
    "    0x60, 0x81, 0x4f, 0xdc, 0x22, 0x2a, 0x90, 0x88, 0x46, 0xee, 0xb8, 0x14, 0xde, 0x5e, 0x0b, 0xdb,\n",
    "    0xe0, 0x32, 0x3a, 0x0a, 0x49, 0x06, 0x24, 0x5c, 0xc2, 0xd3, 0xac, 0x62, 0x91, 0x95, 0xe4, 0x79,\n",
    "    0xe7, 0xc8, 0x37, 0x6d, 0x8d, 0xd5, 0x4e, 0xa9, 0x6c, 0x56, 0xf4, 0xea, 0x65, 0x7a, 0xae, 0x08,\n",
    "    0xba, 0x78, 0x25, 0x2e, 0x1c, 0xa6, 0xb4, 0xc6, 0xe8, 0xdd, 0x74, 0x1f, 0x4b, 0xbd, 0x8b, 0x8a,\n",
    "    0x70, 0x3e, 0xb5, 0x66, 0x48, 0x03, 0xf6, 0x0e, 0x61, 0x35, 0x57, 0xb9, 0x86, 0xc1, 0x1d, 0x9e,\n",
    "    0xe1, 0xf8, 0x98, 0x11, 0x69, 0xd9, 0x8e, 0x94, 0x9b, 0x1e, 0x87, 0xe9, 0xce, 0x55, 0x28, 0xdf,\n",
    "    0x8c, 0xa1, 0x89, 0x0d, 0xbf, 0xe6, 0x42, 0x68, 0x41, 0x99, 0x2d, 0x0f, 0xb0, 0x54, 0xbb, 0x16)"
   ]
  },
  {
   "cell_type": "code",
   "execution_count": 16,
   "id": "6c131509",
   "metadata": {},
   "outputs": [],
   "source": [
    "# Specify a function that gets the output of the S-Box from a plaintext and a key input.\n",
    "# ***Fill in here*** \n",
    "#plaintext = 34\n",
    "#k = 0 \n",
    "def sbox_computation(plaintext, key):\n",
    "     temp_xor = plaintext ^ key \n",
    "     return sbox[temp_xor]"
   ]
  },
  {
   "cell_type": "markdown",
   "id": "6c526190",
   "metadata": {},
   "source": [
    "Now, the goal is to separate collected traces into different groups based on a specific bit value in the result of the S-Box's output. Compute the sum of your two student numbers mod 8 to obtain the specific target bit."
   ]
  },
  {
   "cell_type": "code",
   "execution_count": 17,
   "id": "55bdf993",
   "metadata": {},
   "outputs": [
    {
     "name": "stdout",
     "output_type": "stream",
     "text": [
      "3\n"
     ]
    }
   ],
   "source": [
    "# Our first step here will be separating our traces into different groups based on the specific bit in the S-Box's output.\n",
    "# Find that specific bit by computing the sum of your student numbers mod 8. \n",
    "# ***Fill in here***\n",
    "s1= 1081582\n",
    "s2 = 1071237\n",
    "bit = ((s1+s2) % 8)\n",
    "print(bit)\n",
    "def attack_target_byte(target_byte):\n",
    "    DOM = []\n",
    "    DOM2 = np.empty((256, 4000))\n",
    "    sbox_targetbit_value =[]\n",
    "    for key in tqdm(range(256)):\n",
    "        traces_zero =list()\n",
    "        traces_one = list()\n",
    "        for i in (range(2500)):\n",
    "            temp_sbox_dump = '{:08b}'.format(sbox_computation(Plain_data[i][target_byte], key))\n",
    "            sbox_targetbit_value.append(temp_sbox_dump[5])\n",
    "            if temp_sbox_dump[bit] == '0':\n",
    "                traces_zero.append(traces_data[i])\n",
    "            else:\n",
    "                traces_one.append(traces_data[i])\n",
    "        mean_zero = np.mean(traces_zero,axis=0)\n",
    "        mean_one = np.mean(traces_one, axis=0)\n",
    "        DOM2[key] = abs(mean_one - mean_zero) \n",
    "    return(DOM2)\n",
    "\n"
   ]
  },
  {
   "cell_type": "code",
   "execution_count": 18,
   "id": "de4c1e4a",
   "metadata": {},
   "outputs": [
    {
     "name": "stderr",
     "output_type": "stream",
     "text": [
      "100%|██████████| 256/256 [00:19<00:00, 13.23it/s]\n",
      "100%|██████████| 256/256 [00:18<00:00, 14.09it/s]\n",
      "100%|██████████| 256/256 [00:18<00:00, 13.99it/s]\n",
      "100%|██████████| 256/256 [00:19<00:00, 13.45it/s]\n",
      "100%|██████████| 256/256 [00:19<00:00, 13.46it/s]\n",
      "100%|██████████| 256/256 [00:18<00:00, 13.82it/s]\n",
      "100%|██████████| 256/256 [00:18<00:00, 13.74it/s]\n",
      "100%|██████████| 256/256 [00:19<00:00, 13.41it/s]\n",
      "100%|██████████| 256/256 [00:20<00:00, 12.38it/s]\n",
      "100%|██████████| 256/256 [00:19<00:00, 13.14it/s]\n",
      "100%|██████████| 256/256 [00:19<00:00, 12.90it/s]\n",
      "100%|██████████| 256/256 [00:19<00:00, 13.19it/s]\n",
      "100%|██████████| 256/256 [00:19<00:00, 13.14it/s]\n",
      "100%|██████████| 256/256 [00:20<00:00, 12.64it/s]\n",
      "100%|██████████| 256/256 [00:19<00:00, 12.96it/s]\n",
      "100%|██████████| 256/256 [00:20<00:00, 12.77it/s]\n",
      "100%|██████████| 16/16 [05:09<00:00, 19.33s/it]"
     ]
    },
    {
     "name": "stdout",
     "output_type": "stream",
     "text": [
      "[(array([33]),), (array([122]),), (array([37]),), (array([67]),), (array([42]),), (array([70]),), (array([45]),), (array([74]),), (array([97]),), (array([78]),), (array([100]),), (array([82]),), (array([103]),), (array([85]),), (array([107]),), (array([88]),)]\n"
     ]
    },
    {
     "name": "stderr",
     "output_type": "stream",
     "text": [
      "\n"
     ]
    }
   ],
   "source": [
    "# Then, Write loop(s) to attack subkeys one by one.\n",
    "# Fill a list to hold difference of means values, and the lists for key guesses (if you have decided to save them).\n",
    "# ***Fill in here*** \n",
    "key_guesses_array = []\n",
    "for target_byte in tqdm(range(16)):\n",
    "    DOM2 = attack_target_byte(target_byte)\n",
    "    max_value = DOM2.max(axis=1)\n",
    "    #print(DOM2)\n",
    "    sub_key = np.where(max_value==np.amax(max_value))\n",
    "    key_guesses_array.append(sub_key)\n",
    "print(key_guesses_array)"
   ]
  },
  {
   "cell_type": "markdown",
   "id": "3b8110b5",
   "metadata": {},
   "source": [
    "Print the recovered keys for each subkey (hex format)."
   ]
  },
  {
   "cell_type": "code",
   "execution_count": 19,
   "id": "007a8789",
   "metadata": {},
   "outputs": [
    {
     "name": "stdout",
     "output_type": "stream",
     "text": [
      "0x21\n",
      "0x7a\n",
      "0x25\n",
      "0x43\n",
      "0x2a\n",
      "0x46\n",
      "0x2d\n",
      "0x4a\n",
      "0x61\n",
      "0x4e\n",
      "0x64\n",
      "0x52\n",
      "0x67\n",
      "0x55\n",
      "0x6b\n",
      "0x58\n"
     ]
    }
   ],
   "source": [
    "# Print the recovered keys for each subkey (hex format).\n",
    "# ***Fill in here*** \n",
    "for index in range(len(key_guesses_array)):\n",
    "   print(hex(int(key_guesses_array[index][0])))"
   ]
  },
  {
   "cell_type": "markdown",
   "id": "258125c2",
   "metadata": {},
   "source": [
    "## Analysis (Q2)\n",
    "### DPA attack with 1-bit leakage model and CPA as distinguisher:\n",
    "In this section you will break AES leveraging 1-bit leakage model and CPA as distinguisher. This bit is the same bit that you have used in the previous attack. As you know from the lectures, this means that the DoM distinguisher is replaced with the Pearson correlation coefficient as a distinguisher."
   ]
  },
  {
   "cell_type": "code",
   "execution_count": 65,
   "id": "f9bd4085",
   "metadata": {},
   "outputs": [
    {
     "name": "stdout",
     "output_type": "stream",
     "text": [
      "()\n"
     ]
    }
   ],
   "source": [
    "# Build a prediction matrix that collects the output of the S-Box for all subkey guesses and the plaintexts.\n",
    "# ***Fill in here***  \n",
    "def prediction_matrix(target_byte):\n",
    "    prediction_matrix = list()\n",
    "    #for target_byte in tqdm(range(16)):\n",
    "    for key in tqdm(range(256)):\n",
    "        temp_per_key=[]\n",
    "        for i in range(2500):\n",
    "            #print(sbox_computation(Plain_data[i][0], key))\n",
    "            temp_per_key.append(sbox_computation(Plain_data[i][target_byte], key))\n",
    "            #print(temp_per_key)\n",
    "            #np.append(prediction_matrix,sbox_computation(Plain_data[i][0], key),)\n",
    "        prediction_matrix.append(temp_per_key)\n",
    "    prediction_matrix = np.transpose(prediction_matrix)\n",
    "    return(prediction_matrix)\n",
    "\n",
    "# Then print this matrix. \n",
    "#print(prediction_matrix)\n",
    "print(np.asarray(prediction_matrix).shape)\n",
    "#print(\"Shape of prediction_matrix:\", prediction_matrix.shape)  "
   ]
  },
  {
   "cell_type": "code",
   "execution_count": 66,
   "id": "95f9bb85",
   "metadata": {},
   "outputs": [],
   "source": [
    "## Compute 1-bit leakage model\n",
    "# ***Fill in here*** \n",
    "\n",
    "def leakage_model(prediction_matrix):\n",
    "    leakage_model = list()\n",
    "    for j in range(256):\n",
    "        bit_per_key = []\n",
    "        for i in range(2500):\n",
    "            binary_conversion= '{:08b}'.format(prediction_matrix[i][j])\n",
    "            bit_per_key.append(binary_conversion[5])\n",
    "        leakage_model.append(bit_per_key)\n",
    "    return(leakage_model)"
   ]
  },
  {
   "cell_type": "code",
   "execution_count": 70,
   "id": "200a54e1",
   "metadata": {},
   "outputs": [],
   "source": [
    "# Compute the correlation coefficients\n",
    "# ***Fill in here***\n",
    "# pearsoncoleration = cov(power traces, leakage mode)/ sqrt(stdd(powertraces).stdd(leakage model))\n",
    "def correlation(leakage_model):\n",
    "  traces_data_transpose = np.transpose(traces_data)\n",
    "  traces_data_transpose = np.asarray(traces_data_transpose,dtype=np.float32)\n",
    "  leakage_model = np.asarray(leakage_model,dtype=np.int32)\n",
    "  #print(np.asarray(traces_data_transpose).shape)\n",
    "  #print(np.asarray(leakage_model).shape)\n",
    "  correlation = []\n",
    "  for key in (range(256)):\n",
    "    temp_correlation = []\n",
    "    for j in range (4000):\n",
    "      pearson_coff = abs(pearsonr((np.asarray(leakage_model)[key,:]),(np.asarray(traces_data_transpose)[j,:]))[0])\n",
    "      temp_correlation.append((pearson_coff))  #np.corrcoef((leakage_model[0],traces_data[j]),dtype=int)\n",
    "    max_correlation_value = max(temp_correlation)\n",
    "    correlation.append(max_correlation_value)\n",
    "\n",
    "  max_vaule_corr = np.asarray(correlation).max()\n",
    "  max_value_index = correlation.index(max_vaule_corr)\n",
    "  print(max_value_index)\n",
    "\n",
    "\n"
   ]
  },
  {
   "cell_type": "code",
   "execution_count": 71,
   "id": "5cc077b0",
   "metadata": {},
   "outputs": [
    {
     "name": "stderr",
     "output_type": "stream",
     "text": [
      "100%|██████████| 256/256 [00:04<00:00, 57.77it/s]\n"
     ]
    }
   ],
   "source": [
    "# Complete the attack\n",
    "# ***Fill in here***\n",
    "for target_byte in tqdm(range(16)):\n",
    "   pred_matrix = prediction_matrix(target_byte)\n",
    "   leakage_mod = leakage_model(pred_matrix)\n",
    "   correlation(leakage_mod)"
   ]
  },
  {
   "cell_type": "markdown",
   "id": "a0274aa6",
   "metadata": {},
   "source": [
    "Print the recovered keys for each subkey (hex format)."
   ]
  },
  {
   "cell_type": "code",
   "execution_count": null,
   "id": "ee7a78e9",
   "metadata": {},
   "outputs": [],
   "source": [
    "# Print the recovered key for each subkey (hex format).\n",
    "# ***Fill in here***"
   ]
  },
  {
   "cell_type": "markdown",
   "id": "bb704c34",
   "metadata": {},
   "source": [
    "## Analysis (Q3)"
   ]
  },
  {
   "cell_type": "markdown",
   "id": "9897b6c2",
   "metadata": {},
   "source": [
    "\n",
    "### DPA attack with Hamming Weight leakage model and CPA as distinguisher:\n"
   ]
  },
  {
   "cell_type": "code",
   "execution_count": null,
   "id": "2794368f",
   "metadata": {},
   "outputs": [],
   "source": [
    "# Define a function that computes the Hamming Weight of the sensitive value used in the attack.\n",
    "# ***Fill in here***\n",
    "\n",
    "# Use Hamming Weight leakage model\n",
    "# ***Fill in here***"
   ]
  },
  {
   "cell_type": "code",
   "execution_count": null,
   "id": "2dbd1f5e",
   "metadata": {},
   "outputs": [],
   "source": [
    "# Compute the correlation coefficients and plot the traces [for all candidates].\n",
    "# ***Fill in here***"
   ]
  },
  {
   "cell_type": "code",
   "execution_count": null,
   "id": "b3b977cf",
   "metadata": {},
   "outputs": [],
   "source": [
    "# Complete the attack\n",
    "# ***Fill in here***"
   ]
  },
  {
   "cell_type": "code",
   "execution_count": null,
   "id": "0ba75e4c",
   "metadata": {},
   "outputs": [],
   "source": [
    "# Print the recovered key for each subkey (hex format).\n",
    "# ***Fill in here***"
   ]
  },
  {
   "cell_type": "markdown",
   "id": "8e0cbb78",
   "metadata": {},
   "source": [
    "## Analysis (Q4)"
   ]
  },
  {
   "cell_type": "markdown",
   "id": "564f80e7",
   "metadata": {},
   "source": [
    "### a) Recover all bytes of the key using Hamming Weight leakage model and CPA as distinguisher"
   ]
  },
  {
   "cell_type": "code",
   "execution_count": 1,
   "id": "c868031f",
   "metadata": {},
   "outputs": [],
   "source": [
    "# ***Fill in here*** "
   ]
  },
  {
   "cell_type": "markdown",
   "id": "46dde2d6",
   "metadata": {},
   "source": [
    "### b) Finding the best place to get a good correlation between Hamming Weight and power consumption\n",
    "To find the best place to get a good correlation between Hamming Weight and power consumption you can write a loop to check the correlation at each time point (or sample) and find the maximum correlation. There are many time point intervals you can use, so just pick an interval that encompasses 500-1000 points. This should give you enough points to find a good correlation. Also, since we do not care if the correlation is positive or negative we can use the absolute value of the correlation to find the maximum."
   ]
  },
  {
   "cell_type": "code",
   "execution_count": null,
   "id": "e1a33010",
   "metadata": {},
   "outputs": [],
   "source": [
    "# Write a a nested loop where the outer loop goes over the selected interval of samples [time points],\n",
    "# and the inner loop iterates over traces.\n",
    "# Calculate the Hamming Weight of the S-Box output and partition traces based on their corresponding Hamming Weights. \n",
    "# Then calculate the mean for each set of the partition and call it hw_mean_list. \n",
    "# Compute the absolute value of Pearson correlation coefficients using corr = abs(np.corrcoef(range(1,9), hw_mean_list[1:9])[0,1])\n",
    "# Find the time sample that maximize the above correlation coefficient."
   ]
  },
  {
   "cell_type": "markdown",
   "id": "51370901",
   "metadata": {},
   "source": [
    "### c) Plot average value of measurements vs. Hamming Weight of sensitive value for the point that you found"
   ]
  },
  {
   "cell_type": "code",
   "execution_count": null,
   "id": "3c3af470",
   "metadata": {},
   "outputs": [],
   "source": [
    "# Import some useful libraries\n",
    "from bokeh.plotting import figure, show\n",
    "from bokeh.io import output_notebook\n",
    "\n",
    "output_notebook()\n",
    "p = figure(title=\"HW vs Power Consumption Measurement\")\n",
    "\n",
    "# Use p.line to plot HW vs Voltage Measurement.\n",
    "# ***Fill in here*** \n",
    "\n",
    "p.xaxis.axis_label = \"Hamming Weight of Sensitive Value\"\n",
    "p.yaxis.axis_label = \"Average Value of Measurement\"\n",
    "show(p)"
   ]
  },
  {
   "cell_type": "markdown",
   "id": "250f52ba",
   "metadata": {},
   "source": [
    "### d) Plot the same figure but for another point. What does this one look like? "
   ]
  },
  {
   "cell_type": "code",
   "execution_count": null,
   "id": "3e7c49ab",
   "metadata": {},
   "outputs": [],
   "source": [
    "# Try other points and repeat the above steps. \n",
    "# ***Fill in here*** "
   ]
  }
 ],
 "metadata": {
  "kernelspec": {
   "display_name": "Python 3 (ipykernel)",
   "language": "python",
   "name": "python3"
  },
  "language_info": {
   "codemirror_mode": {
    "name": "ipython",
    "version": 3
   },
   "file_extension": ".py",
   "mimetype": "text/x-python",
   "name": "python",
   "nbconvert_exporter": "python",
   "pygments_lexer": "ipython3",
   "version": "3.8.2"
  }
 },
 "nbformat": 4,
 "nbformat_minor": 5
}
